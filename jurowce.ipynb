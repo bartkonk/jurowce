{
 "cells": [
  {
   "cell_type": "code",
   "execution_count": 1,
   "metadata": {
    "collapsed": true
   },
   "outputs": [],
   "source": [
    "%matplotlib inline\n",
    "from ipywidgets import interact, interactive\n",
    "import ipywidgets as widgets\n",
    "from IPython.display import clear_output, display, HTML\n",
    "import numpy as np\n",
    "from scipy import integrate\n",
    "from matplotlib import pyplot as plt\n",
    "from mpl_toolkits.mplot3d import Axes3D\n",
    "from matplotlib.colors import cnames\n",
    "from matplotlib import animation"
   ]
  },
  {
   "cell_type": "markdown",
   "metadata": {},
   "source": [
    "# Stale"
   ]
  },
  {
   "cell_type": "code",
   "execution_count": 2,
   "metadata": {
    "collapsed": true
   },
   "outputs": [],
   "source": [
    "VAT = .19\n",
    "DOCHODOWY = .19\n",
    "#powierzchnia w m^2\n",
    "POWIERZCHNIA_CALKOWITA = 23000\n",
    "POWIERZCHNIA_PO_PODZIALE = 20000\n",
    "ADJACENCKA = .3"
   ]
  },
  {
   "cell_type": "markdown",
   "metadata": {},
   "source": [
    "# Zmienne 1"
   ]
  },
  {
   "cell_type": "code",
   "execution_count": 3,
   "metadata": {
    "collapsed": false
   },
   "outputs": [],
   "source": [
    "rzeczywista_cena_sprzedazy = [90,151]\n",
    "przed_adjacencka_cena_za_metr_ = widgets.FloatSlider(min=50.0, max=80.0, step=1.0)\n",
    "wzrost_wartosci_ = widgets.FloatSlider(min=0.1, max=2.0, step=0.1, value=0.5)"
   ]
  },
  {
   "cell_type": "markdown",
   "metadata": {},
   "source": [
    "# Zmienne zmienne"
   ]
  },
  {
   "cell_type": "code",
   "execution_count": 4,
   "metadata": {
    "collapsed": false
   },
   "outputs": [],
   "source": [
    "def policz(przed_adjacencka_cena_za_metr, wzrost_wartosci):\n",
    "\n",
    "    fig = plt.figure()\n",
    "    ax = fig.add_axes([0, 0, 1, 1])\n",
    "    \n",
    "    oplata_adjacencka = przed_adjacencka_cena_za_metr * wzrost_wartosci * ADJACENCKA * POWIERZCHNIA_CALKOWITA\n",
    "    #print'adjacencka = ',\n",
    "    #print oplata_adjacencka\n",
    "    \n",
    "    size = rzeczywista_cena_sprzedazy[1] - rzeczywista_cena_sprzedazy[0]\n",
    "    x = np.zeros(size)\n",
    "    y = np.zeros(size)\n",
    "    index = 0\n",
    "    for i in range(rzeczywista_cena_sprzedazy[0], rzeczywista_cena_sprzedazy[1]):\n",
    "        x[index] = i\n",
    "        y[index] = POWIERZCHNIA_PO_PODZIALE*i - oplata_adjacencka\n",
    "        index +=1\n",
    "    plt.plot(x,y, linewidth=2)\n",
    "    plt.grid()\n",
    "\n",
    "    plt.show()"
   ]
  },
  {
   "cell_type": "code",
   "execution_count": 5,
   "metadata": {
    "collapsed": false,
    "scrolled": true
   },
   "outputs": [
    {
     "data": {
      "image/png": "[encoded data removed]",
      "text/plain": [
       "<matplotlib.figure.Figure at 0x7fab588>"
      ]
     },
     "metadata": {},
     "output_type": "display_data"
    }
   ],
   "source": [
    "w = interactive(policz,przed_adjacencka_cena_za_metr = przed_adjacencka_cena_za_metr_, wzrost_wartosci = wzrost_wartosci_)\n",
    "display(w)"
   ]
  },
  {
   "cell_type": "code",
   "execution_count": null,
   "metadata": {
    "collapsed": true
   },
   "outputs": [],
   "source": []
  }
 ],
 "metadata": {
  "kernelspec": {
   "display_name": "Python 2",
   "language": "python",
   "name": "python2"
  },
  "language_info": {
   "codemirror_mode": {
    "name": "ipython",
    "version": 2
   },
   "file_extension": ".py",
   "mimetype": "text/x-python",
   "name": "python",
   "nbconvert_exporter": "python",
   "pygments_lexer": "ipython2",
   "version": "2.7.13"
  },
  "widgets": {
   "state": {
    "a8b7ffdefe114990af5dd191fbfc4962": {
     "views": [
      {
       "cell_index": 7
      }
     ]
    }
   },
   "version": "1.2.0"
  }
 },
 "nbformat": 4,
 "nbformat_minor": 2
}
