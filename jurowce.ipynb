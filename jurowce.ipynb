{
 "cells": [
  {
   "cell_type": "code",
   "execution_count": 1,
   "metadata": {
    "collapsed": false
   },
   "outputs": [],
   "source": [
    "%matplotlib inline\n",
    "import functions\n",
    "reload(functions)\n",
    "from functions import *"
   ]
  },
  {
   "cell_type": "markdown",
   "metadata": {},
   "source": [
    "<h4>Podatek VAT</h4>"
   ]
  },
  {
   "cell_type": "code",
   "execution_count": 2,
   "metadata": {
    "collapsed": true
   },
   "outputs": [],
   "source": [
    "VAT1 = .08\n",
    "VAT2 = .08"
   ]
  },
  {
   "cell_type": "markdown",
   "metadata": {},
   "source": [
    "<h4>Podatek dochodowy</h4>"
   ]
  },
  {
   "cell_type": "code",
   "execution_count": 3,
   "metadata": {
    "collapsed": false,
    "scrolled": false
   },
   "outputs": [],
   "source": [
    "DOCHODOWY = .19"
   ]
  },
  {
   "cell_type": "markdown",
   "metadata": {},
   "source": [
    "<h4>Oplata adjacencka</h4>"
   ]
  },
  {
   "cell_type": "code",
   "execution_count": 4,
   "metadata": {
    "collapsed": true
   },
   "outputs": [],
   "source": [
    "ADJ = .2"
   ]
  },
  {
   "cell_type": "markdown",
   "metadata": {},
   "source": [
    "<h4>Calkowita powierzchnia dzialki</h4>"
   ]
  },
  {
   "cell_type": "code",
   "execution_count": 5,
   "metadata": {
    "collapsed": true
   },
   "outputs": [],
   "source": [
    "POW = 23066"
   ]
  },
  {
   "cell_type": "markdown",
   "metadata": {},
   "source": [
    "<h4>Cena za metr bez podzialu</h4>cena ktora chcielibysmy osiagnac przy sprzedazy calej dzialki bez podzialu"
   ]
  },
  {
   "cell_type": "code",
   "execution_count": 6,
   "metadata": {
    "collapsed": true
   },
   "outputs": [],
   "source": [
    "#suwak od 80 do 130 przestawianie o 1\n",
    "cena_bez_podzialu = (80,130,1.0)"
   ]
  },
  {
   "cell_type": "markdown",
   "metadata": {},
   "source": [
    "<h4>Cena za metr bez podzialu (rzeczoznawca)</h4>Cena, ktora zostanie uwzgledniona przy wyliczaniu wzrostu wartosci przez rzeczoznawce "
   ]
  },
  {
   "cell_type": "code",
   "execution_count": 7,
   "metadata": {
    "collapsed": true
   },
   "outputs": [],
   "source": [
    "#suwak\n",
    "cena_adjacencka_bez_podzialu = (80,130,1.0)"
   ]
  },
  {
   "cell_type": "markdown",
   "metadata": {},
   "source": [
    "<h4>wzrost wartosci</h4> wzrost wartosci okreslony przez rzeczoznawce (relatywny)"
   ]
  },
  {
   "cell_type": "code",
   "execution_count": 8,
   "metadata": {
    "collapsed": true
   },
   "outputs": [],
   "source": [
    "#suwak, wzrost wartosci o 10 procent do 100 procent (2 razy), przestawianie o 5 procent\n",
    "wzrost_wartosci = (0.1,1.0,0.01)"
   ]
  },
  {
   "cell_type": "markdown",
   "metadata": {},
   "source": [
    "<h4>Ilosc dzialek po podziale oraz ich powierzchnia</h4>"
   ]
  },
  {
   "cell_type": "code",
   "execution_count": 9,
   "metadata": {
    "collapsed": false
   },
   "outputs": [],
   "source": [
    "n_dzialek = 22\n",
    "n_dzialek_pow = [1000,1000,1000,1000,1000,1000,1000,1000,1000,1000,1000,1000,1000,1000,1000,900,900,900,900,900,900,900]"
   ]
  },
  {
   "cell_type": "markdown",
   "metadata": {},
   "source": [
    "<h4>Inwestycja</h4>"
   ]
  },
  {
   "cell_type": "code",
   "execution_count": 10,
   "metadata": {
    "collapsed": true
   },
   "outputs": [],
   "source": [
    "#koszty zalozenia i prowadzenia spolki\n",
    "podatek_od_kapitalu_wejsciowego = 0.005\n",
    "#jakies koszty poboczne uzbierane na przestrzeni calej inwestycji\n",
    "inne_koszty = 100000\n",
    "#stale koszty miesieczne\n",
    "koszty_miesieczne = 3000\n",
    "#na przestrzeni lat\n",
    "ilosc_lat = 8\n",
    "#inwestycja w budowe, jednorazowe koszty\n",
    "geodezja = 10000\n",
    "droga = 200000\n",
    "linia_energetyczna = 125000\n",
    "#cena budowy nieruchomosci (netto) - suwak\n",
    "nieruchomosc = (200000.0,600000.0,5000.0)\n",
    "#cena sprzedazy nieruchomosci (netto) - suwak\n",
    "sprzedaz_nieruchomosci = (400000.0,1000000.0,5000.0)\n",
    "#przypuszczalnie uda sie wybudowac kolejny dom troche taniej od poprzedniego \n",
    "#zakladamy ze zbijemy koszty budowy o\n",
    "spadek_kosztow = .08 #8 procent\n",
    "#i osiagniemy ten wlasnie spadek po wybudowaniu \n",
    "pelny_spadek_kosztow_po = 5 #domow\n",
    "#zabawa z optymalizacja podatku (suwak)\n",
    "#0.0 nie zbijemy w ogole podatku\n",
    "#1.0 zbijemy caly podatek\n",
    "optymalizacja_podatkowa = (0.0, 1.0, 0.01)"
   ]
  },
  {
   "cell_type": "code",
   "execution_count": 11,
   "metadata": {
    "collapsed": false
   },
   "outputs": [],
   "source": [
    "globs = Globs(VAT1, VAT2, DOCHODOWY, ADJ, POW,cena_bez_podzialu, cena_adjacencka_bez_podzialu, wzrost_wartosci, n_dzialek,\\\n",
    "              n_dzialek_pow)\n",
    "globs.init_inwestycje(podatek_od_kapitalu_wejsciowego, inne_koszty, ilosc_lat, koszty_miesieczne, geodezja,\\\n",
    "                      droga, linia_energetyczna, nieruchomosc, spadek_kosztow, pelny_spadek_kosztow_po,\\\n",
    "                      sprzedaz_nieruchomosci, optymalizacja_podatkowa)"
   ]
  },
  {
   "cell_type": "code",
   "execution_count": 12,
   "metadata": {
    "collapsed": false
   },
   "outputs": [
    {
     "data": {
      "image/png": "[encoded data removed]",
      "text/plain": [
       "<matplotlib.figure.Figure at 0x7edd5f8>"
      ]
     },
     "metadata": {},
     "output_type": "display_data"
    },
    {
     "data": {
      "text/html": [
       "<h4>Zysk relatywny do maximum(sprzedaz dzialek lub calosci))</h4>"
      ],
      "text/plain": [
       "<IPython.core.display.HTML object>"
      ]
     },
     "metadata": {},
     "output_type": "display_data"
    },
    {
     "data": {
      "image/png": "[encoded data removed]",
      "text/plain": [
       "<matplotlib.figure.Figure at 0x80a8748>"
      ]
     },
     "metadata": {},
     "output_type": "display_data"
    },
    {
     "name": "stdout",
     "output_type": "stream",
     "text": [
      "('oplata adjacencka', 186834.6)\n",
      "('powierzchnia dzialek podzielonych', 21300)\n",
      "('podatek dochodowy', 1167771.426)\n",
      "('nominalnie zysku', 4968014.2740000002)\n"
     ]
    }
   ],
   "source": [
    "globs.start()"
   ]
  }
 ],
 "metadata": {
  "kernelspec": {
   "display_name": "Python 2",
   "language": "python",
   "name": "python2"
  },
  "language_info": {
   "codemirror_mode": {
    "name": "ipython",
    "version": 2
   },
   "file_extension": ".py",
   "mimetype": "text/x-python",
   "name": "python",
   "nbconvert_exporter": "python",
   "pygments_lexer": "ipython2",
   "version": "2.7.13"
  },
  "widgets": {
   "state": {
    "06114f1dfe1e45619a9c5e418ae14691": {
     "views": [
      {
       "cell_index": 20
      }
     ]
    },
    "0db8ee93aaa741dab4d0262cd091527e": {
     "views": [
      {
       "cell_index": 20
      }
     ]
    },
    "0e3c859ba33449f48e554f30495ae1cc": {
     "views": [
      {
       "cell_index": 20
      }
     ]
    },
    "14163103e8204f1684b740de69b75b71": {
     "views": [
      {
       "cell_index": 20
      }
     ]
    },
    "1c01cd178dfa4060af3964b020f2a589": {
     "views": [
      {
       "cell_index": 20
      }
     ]
    },
    "1f6c5c34333b4f98a1811ad67fba8dc7": {
     "views": [
      {
       "cell_index": 20
      }
     ]
    },
    "3412e1097899446a953f0b64e512bb19": {
     "views": [
      {
       "cell_index": 20
      }
     ]
    },
    "34d5fea1eb7b4506b52bc1614b8d2644": {
     "views": [
      {
       "cell_index": 20
      }
     ]
    },
    "37b4ed961f674f85bca9d715e6e783a7": {
     "views": [
      {
       "cell_index": 20
      }
     ]
    },
    "44f4f32be9f84fa3934a4c74a7dfa9e0": {
     "views": [
      {
       "cell_index": 20
      }
     ]
    },
    "49257d4c96f246af9c6ff3874b54dedb": {
     "views": [
      {
       "cell_index": 20
      }
     ]
    },
    "581a5495ce3947099d8678e86a7bf812": {
     "views": [
      {
       "cell_index": 20
      }
     ]
    },
    "62a216ecce0140af83569a82e2219f66": {
     "views": [
      {
       "cell_index": 20
      }
     ]
    },
    "68a0e162041a4f4ea24a9c48f8c1a8c1": {
     "views": [
      {
       "cell_index": 20
      }
     ]
    },
    "73789f98b8e04484a2dee35ff0060115": {
     "views": [
      {
       "cell_index": 20
      }
     ]
    },
    "8125fe1622f5405cacd3b4cc791d5cc2": {
     "views": [
      {
       "cell_index": 20
      }
     ]
    },
    "86cf8e7a09dd4c49ad07a511a85c9120": {
     "views": [
      {
       "cell_index": 20
      }
     ]
    },
    "887a6b2e375d4407bd944f694bcd2979": {
     "views": [
      {
       "cell_index": 20
      }
     ]
    },
    "92cdf8332a25407f9493f042e3ead304": {
     "views": [
      {
       "cell_index": 20
      }
     ]
    },
    "984876228df74ffa9c1a55919b7f4cf6": {
     "views": [
      {
       "cell_index": 20
      }
     ]
    },
    "9c47724ace42429795202877acb5577a": {
     "views": [
      {
       "cell_index": 20
      }
     ]
    },
    "c610007f070247c1aded03aeb4ff401c": {
     "views": [
      {
       "cell_index": 20
      }
     ]
    },
    "cc47231eef3b409abcb128cda151892b": {
     "views": [
      {
       "cell_index": 20
      }
     ]
    },
    "dcf355da22d2496fafac88b0ada025c5": {
     "views": [
      {
       "cell_index": 20
      }
     ]
    },
    "e35025c084e6447a8a9c23e68cfb30c5": {
     "views": [
      {
       "cell_index": 20
      }
     ]
    },
    "e914c3c3e0bd49de91d243c8bf32c15b": {
     "views": [
      {
       "cell_index": 20
      }
     ]
    },
    "ec6e6db42f8b429e91b5af07bf1ae5ea": {
     "views": [
      {
       "cell_index": 20
      }
     ]
    },
    "f224840531ba4b73b8023cc3637b97d9": {
     "views": [
      {
       "cell_index": 20
      }
     ]
    },
    "f34595d2f03b4b0f895dde8d54c82c38": {
     "views": [
      {
       "cell_index": 20
      }
     ]
    }
   },
   "version": "1.2.0"
  }
 },
 "nbformat": 4,
 "nbformat_minor": 2
}
