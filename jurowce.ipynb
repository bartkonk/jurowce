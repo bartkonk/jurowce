{
 "cells": [
  {
   "cell_type": "code",
   "execution_count": 1,
   "metadata": {
    "collapsed": false
   },
   "outputs": [],
   "source": [
    "%matplotlib inline\n",
    "import functions\n",
    "reload(functions)\n",
    "from functions import *"
   ]
  },
  {
   "cell_type": "markdown",
   "metadata": {},
   "source": [
    "<h4>Podatek VAT</h4>"
   ]
  },
  {
   "cell_type": "code",
   "execution_count": 2,
   "metadata": {
    "collapsed": true
   },
   "outputs": [],
   "source": [
    "VAT = .23"
   ]
  },
  {
   "cell_type": "markdown",
   "metadata": {},
   "source": [
    "<h4>Podatek dochodowy</h4>"
   ]
  },
  {
   "cell_type": "code",
   "execution_count": 3,
   "metadata": {
    "collapsed": true
   },
   "outputs": [],
   "source": [
    "DOCHODOWY = .19"
   ]
  },
  {
   "cell_type": "markdown",
   "metadata": {},
   "source": [
    "<h4>Oplata adjacencka</h4>"
   ]
  },
  {
   "cell_type": "code",
   "execution_count": 4,
   "metadata": {
    "collapsed": true
   },
   "outputs": [],
   "source": [
    "ADJ = .3"
   ]
  },
  {
   "cell_type": "markdown",
   "metadata": {},
   "source": [
    "<h4>Calkowita powierzchnia dzialki</h4>"
   ]
  },
  {
   "cell_type": "code",
   "execution_count": 5,
   "metadata": {
    "collapsed": true
   },
   "outputs": [],
   "source": [
    "POW = 23066"
   ]
  },
  {
   "cell_type": "markdown",
   "metadata": {},
   "source": [
    "<h4>Cena za metr bez podzialu</h4>cena ktora chcielibysmy osiagnac przy sprzedazy calej dzialki bez podzialu"
   ]
  },
  {
   "cell_type": "code",
   "execution_count": 6,
   "metadata": {
    "collapsed": true
   },
   "outputs": [],
   "source": [
    "cena_bez_podzialu = (80,130,1.0)"
   ]
  },
  {
   "cell_type": "markdown",
   "metadata": {},
   "source": [
    "<h4>Cena za metr bez podzialu (rzeczoznawca)</h4>Cena, ktora zostanie uwzgledniona przy wyliczaniu wzrostu wartosci przez rzeczoznawce "
   ]
  },
  {
   "cell_type": "code",
   "execution_count": 7,
   "metadata": {
    "collapsed": true
   },
   "outputs": [],
   "source": [
    "cena_adjacencka_bez_podzialu = (80,130,1.0)"
   ]
  },
  {
   "cell_type": "markdown",
   "metadata": {},
   "source": [
    "<h4>wzrost wartosci</h4> wzrost wartosci okreslony przez rzeczoznawce (relatywny)"
   ]
  },
  {
   "cell_type": "code",
   "execution_count": 8,
   "metadata": {
    "collapsed": true
   },
   "outputs": [],
   "source": [
    "wzrost_wartosci = (0.1,1.0,0.05)"
   ]
  },
  {
   "cell_type": "markdown",
   "metadata": {},
   "source": [
    "<h4>Ilosc dzialek po podziale oraz ich powierzchnia</h4>"
   ]
  },
  {
   "cell_type": "code",
   "execution_count": 9,
   "metadata": {
    "collapsed": false
   },
   "outputs": [],
   "source": [
    "n_dzialek = 22\n",
    "n_dzialek_pow = [1000,1000,1000,1000,1000,1000,1000,1000,1000,1000,1000,1000,1000,1000,1000,900,900,900,900,900,900,900]"
   ]
  },
  {
   "cell_type": "markdown",
   "metadata": {},
   "source": [
    "<h4>Inwestycja</h4>"
   ]
  },
  {
   "cell_type": "code",
   "execution_count": 10,
   "metadata": {
    "collapsed": true
   },
   "outputs": [],
   "source": [
    "geodezja = 5000\n",
    "droga = 200000\n",
    "linia_energetyczna = 100000\n",
    "nieruchomosc = (300000.0,700000.0,5000.0)\n",
    "sprzedaz_nieruchomosci = (700000.0,1000000.0,5000.0)\n",
    "spadek_kosztow = 0.12\n",
    "pelny_spadek_kosztow_po = 5 #po ilu wybudownych nieruchomosciach\n",
    "optymalizacja_podatkowa = (0.0, 0.25, 0.01)"
   ]
  },
  {
   "cell_type": "code",
   "execution_count": 11,
   "metadata": {
    "collapsed": false
   },
   "outputs": [
    {
     "ename": "TypeError",
     "evalue": "__init__() takes at most 2 arguments (3 given)",
     "output_type": "error",
     "traceback": [
      "\u001b[0;31m---------------------------------------------------------------------------\u001b[0m",
      "\u001b[0;31mTypeError\u001b[0m                                 Traceback (most recent call last)",
      "\u001b[0;32m<ipython-input-11-73e3c2a253ef>\u001b[0m in \u001b[0;36m<module>\u001b[0;34m()\u001b[0m\n\u001b[1;32m      1\u001b[0m \u001b[0mglobs\u001b[0m \u001b[1;33m=\u001b[0m \u001b[0mGlobs\u001b[0m\u001b[1;33m(\u001b[0m\u001b[0mVAT\u001b[0m\u001b[1;33m,\u001b[0m \u001b[0mDOCHODOWY\u001b[0m\u001b[1;33m,\u001b[0m \u001b[0mADJ\u001b[0m\u001b[1;33m,\u001b[0m \u001b[0mPOW\u001b[0m\u001b[1;33m,\u001b[0m\u001b[0mcena_bez_podzialu\u001b[0m\u001b[1;33m,\u001b[0m \u001b[0mcena_adjacencka_bez_podzialu\u001b[0m\u001b[1;33m,\u001b[0m \u001b[0mwzrost_wartosci\u001b[0m\u001b[1;33m,\u001b[0m \u001b[0mn_dzialek\u001b[0m\u001b[1;33m,\u001b[0m              \u001b[0mn_dzialek_pow\u001b[0m\u001b[1;33m)\u001b[0m\u001b[1;33m\u001b[0m\u001b[0m\n\u001b[1;32m      2\u001b[0m \u001b[0mglobs\u001b[0m\u001b[1;33m.\u001b[0m\u001b[0minit_inwestycje\u001b[0m\u001b[1;33m(\u001b[0m\u001b[0mgeodezja\u001b[0m\u001b[1;33m,\u001b[0m \u001b[0mdroga\u001b[0m\u001b[1;33m,\u001b[0m \u001b[0mlinia_energetyczna\u001b[0m\u001b[1;33m,\u001b[0m \u001b[0mnieruchomosc\u001b[0m\u001b[1;33m,\u001b[0m \u001b[0mspadek_kosztow\u001b[0m\u001b[1;33m,\u001b[0m \u001b[0mpelny_spadek_kosztow_po\u001b[0m\u001b[1;33m,\u001b[0m                      \u001b[0msprzedaz_nieruchomosci\u001b[0m\u001b[1;33m,\u001b[0m \u001b[0moptymalizacja_podatkowa\u001b[0m\u001b[1;33m)\u001b[0m\u001b[1;33m\u001b[0m\u001b[0m\n\u001b[0;32m----> 3\u001b[0;31m \u001b[0mglobs\u001b[0m\u001b[1;33m.\u001b[0m\u001b[0mstart\u001b[0m\u001b[1;33m(\u001b[0m\u001b[1;33m)\u001b[0m\u001b[1;33m\u001b[0m\u001b[0m\n\u001b[0m",
      "\u001b[0;32mD:\\Users\\bart\\jupyter_notebooks\\jurowce\\functions.pyc\u001b[0m in \u001b[0;36mstart\u001b[0;34m(self)\u001b[0m\n\u001b[1;32m    183\u001b[0m         \u001b[0mvbox2\u001b[0m \u001b[1;33m=\u001b[0m \u001b[0mVBox\u001b[0m\u001b[1;33m(\u001b[0m\u001b[1;33m[\u001b[0m\u001b[0mwid_params\u001b[0m\u001b[1;33m[\u001b[0m\u001b[1;36m1\u001b[0m\u001b[1;33m]\u001b[0m\u001b[1;33m,\u001b[0m \u001b[0mwid_params\u001b[0m\u001b[1;33m[\u001b[0m\u001b[1;36m4\u001b[0m\u001b[1;33m]\u001b[0m\u001b[1;33m]\u001b[0m\u001b[1;33m)\u001b[0m\u001b[1;33m\u001b[0m\u001b[0m\n\u001b[1;32m    184\u001b[0m         \u001b[0mvbox3\u001b[0m \u001b[1;33m=\u001b[0m \u001b[0mVBox\u001b[0m\u001b[1;33m(\u001b[0m\u001b[1;33m[\u001b[0m\u001b[0mwid_params\u001b[0m\u001b[1;33m[\u001b[0m\u001b[1;36m2\u001b[0m\u001b[1;33m]\u001b[0m\u001b[1;33m,\u001b[0m \u001b[0mwid_params\u001b[0m\u001b[1;33m[\u001b[0m\u001b[1;36m5\u001b[0m\u001b[1;33m]\u001b[0m\u001b[1;33m]\u001b[0m\u001b[1;33m)\u001b[0m\u001b[1;33m\u001b[0m\u001b[0m\n\u001b[0;32m--> 185\u001b[0;31m         \u001b[0mdisplay\u001b[0m\u001b[1;33m(\u001b[0m\u001b[0mHBox\u001b[0m\u001b[1;33m(\u001b[0m\u001b[1;33m[\u001b[0m\u001b[0mvbox1\u001b[0m\u001b[1;33m,\u001b[0m \u001b[0mvbox2\u001b[0m\u001b[1;33m]\u001b[0m\u001b[1;33m,\u001b[0m \u001b[0mvbox3\u001b[0m\u001b[1;33m)\u001b[0m\u001b[1;33m)\u001b[0m\u001b[1;33m\u001b[0m\u001b[0m\n\u001b[0m\u001b[1;32m    186\u001b[0m \u001b[1;33m\u001b[0m\u001b[0m\n\u001b[1;32m    187\u001b[0m         interactive(self.plot,cena_bez_podzialu = _cena_bez_podzialu, przed_adjacencka_cena_za_metr = _przed_adjacencka_cena_za_metr, \\\n",
      "\u001b[0;32mC:\\ProgramData\\Anaconda2\\lib\\site-packages\\ipywidgets\\widgets\\widget_box.pyc\u001b[0m in \u001b[0;36mHBox\u001b[0;34m(*pargs, **kwargs)\u001b[0m\n\u001b[1;32m     90\u001b[0m \u001b[1;32mdef\u001b[0m \u001b[0mHBox\u001b[0m\u001b[1;33m(\u001b[0m\u001b[1;33m*\u001b[0m\u001b[0mpargs\u001b[0m\u001b[1;33m,\u001b[0m \u001b[1;33m**\u001b[0m\u001b[0mkwargs\u001b[0m\u001b[1;33m)\u001b[0m\u001b[1;33m:\u001b[0m\u001b[1;33m\u001b[0m\u001b[0m\n\u001b[1;32m     91\u001b[0m     \u001b[1;34m\"\"\"Displays multiple widgets horizontally using the flexible box model.\"\"\"\u001b[0m\u001b[1;33m\u001b[0m\u001b[0m\n\u001b[0;32m---> 92\u001b[0;31m     \u001b[0mbox\u001b[0m \u001b[1;33m=\u001b[0m \u001b[0mBox\u001b[0m\u001b[1;33m(\u001b[0m\u001b[1;33m*\u001b[0m\u001b[0mpargs\u001b[0m\u001b[1;33m,\u001b[0m \u001b[1;33m**\u001b[0m\u001b[0mkwargs\u001b[0m\u001b[1;33m)\u001b[0m\u001b[1;33m\u001b[0m\u001b[0m\n\u001b[0m\u001b[1;32m     93\u001b[0m     \u001b[0mbox\u001b[0m\u001b[1;33m.\u001b[0m\u001b[0mlayout\u001b[0m\u001b[1;33m.\u001b[0m\u001b[0mdisplay\u001b[0m \u001b[1;33m=\u001b[0m \u001b[1;34m'flex'\u001b[0m\u001b[1;33m\u001b[0m\u001b[0m\n\u001b[1;32m     94\u001b[0m     \u001b[0mbox\u001b[0m\u001b[1;33m.\u001b[0m\u001b[0mlayout\u001b[0m\u001b[1;33m.\u001b[0m\u001b[0malign_items\u001b[0m \u001b[1;33m=\u001b[0m \u001b[1;34m'stretch'\u001b[0m\u001b[1;33m\u001b[0m\u001b[0m\n",
      "\u001b[0;31mTypeError\u001b[0m: __init__() takes at most 2 arguments (3 given)"
     ]
    }
   ],
   "source": [
    "globs = Globs(VAT, DOCHODOWY, ADJ, POW,cena_bez_podzialu, cena_adjacencka_bez_podzialu, wzrost_wartosci, n_dzialek,\\\n",
    "              n_dzialek_pow)\n",
    "globs.init_inwestycje(geodezja, droga, linia_energetyczna, nieruchomosc, spadek_kosztow, pelny_spadek_kosztow_po,\\\n",
    "                      sprzedaz_nieruchomosci, optymalizacja_podatkowa)\n",
    "globs.start()"
   ]
  },
  {
   "cell_type": "code",
   "execution_count": null,
   "metadata": {
    "collapsed": true
   },
   "outputs": [],
   "source": []
  }
 ],
 "metadata": {
  "kernelspec": {
   "display_name": "Python 2",
   "language": "python",
   "name": "python2"
  },
  "language_info": {
   "codemirror_mode": {
    "name": "ipython",
    "version": 2
   },
   "file_extension": ".py",
   "mimetype": "text/x-python",
   "name": "python",
   "nbconvert_exporter": "python",
   "pygments_lexer": "ipython2",
   "version": "2.7.13"
  },
  "widgets": {
   "state": {
    "67d09747273b45fb9374ae1584a74ed0": {
     "views": [
      {
       "cell_index": 19
      }
     ]
    }
   },
   "version": "1.2.0"
  }
 },
 "nbformat": 4,
 "nbformat_minor": 2
}
