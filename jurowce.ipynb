{
 "cells": [
  {
   "cell_type": "code",
   "execution_count": 1,
   "metadata": {
    "collapsed": false
   },
   "outputs": [],
   "source": [
    "%matplotlib inline\n",
    "import functions\n",
    "reload(functions)\n",
    "from functions import *"
   ]
  },
  {
   "cell_type": "markdown",
   "metadata": {},
   "source": [
    "<h4>Podatek VAT</h4>"
   ]
  },
  {
   "cell_type": "code",
   "execution_count": 2,
   "metadata": {
    "collapsed": true
   },
   "outputs": [],
   "source": [
    "VAT1 = .08\n",
    "VAT2 = .08"
   ]
  },
  {
   "cell_type": "markdown",
   "metadata": {},
   "source": [
    "<h4>Podatek dochodowy</h4>"
   ]
  },
  {
   "cell_type": "code",
   "execution_count": 3,
   "metadata": {
    "collapsed": true
   },
   "outputs": [],
   "source": [
    "DOCHODOWY = .19"
   ]
  },
  {
   "cell_type": "markdown",
   "metadata": {},
   "source": [
    "<h4>Oplata adjacencka</h4>"
   ]
  },
  {
   "cell_type": "code",
   "execution_count": 4,
   "metadata": {
    "collapsed": true
   },
   "outputs": [],
   "source": [
    "ADJ = .2"
   ]
  },
  {
   "cell_type": "markdown",
   "metadata": {},
   "source": [
    "<h4>Calkowita powierzchnia dzialki</h4>"
   ]
  },
  {
   "cell_type": "code",
   "execution_count": 5,
   "metadata": {
    "collapsed": true
   },
   "outputs": [],
   "source": [
    "POW = 23066"
   ]
  },
  {
   "cell_type": "markdown",
   "metadata": {},
   "source": [
    "<h4>Cena za metr bez podzialu</h4>cena ktora chcielibysmy osiagnac przy sprzedazy calej dzialki bez podzialu"
   ]
  },
  {
   "cell_type": "code",
   "execution_count": 6,
   "metadata": {
    "collapsed": true
   },
   "outputs": [],
   "source": [
    "#suwak od 80 do 130 przestawianie o 1\n",
    "cena_bez_podzialu = (80,130,1.0)"
   ]
  },
  {
   "cell_type": "markdown",
   "metadata": {},
   "source": [
    "<h4>Cena za metr bez podzialu (rzeczoznawca)</h4>Cena, ktora zostanie uwzgledniona przy wyliczaniu wzrostu wartosci przez rzeczoznawce "
   ]
  },
  {
   "cell_type": "code",
   "execution_count": 7,
   "metadata": {
    "collapsed": true
   },
   "outputs": [],
   "source": [
    "#suwak\n",
    "cena_adjacencka_bez_podzialu = (80,130,1.0)"
   ]
  },
  {
   "cell_type": "markdown",
   "metadata": {},
   "source": [
    "<h4>wzrost wartosci</h4> wzrost wartosci okreslony przez rzeczoznawce (relatywny)"
   ]
  },
  {
   "cell_type": "code",
   "execution_count": 8,
   "metadata": {
    "collapsed": true
   },
   "outputs": [],
   "source": [
    "#suwak, wzrost wartosci o 10 procent do 100 procent (2 razy), przestawianie o 5 procent\n",
    "wzrost_wartosci = (0.1,1.0,0.01)"
   ]
  },
  {
   "cell_type": "markdown",
   "metadata": {},
   "source": [
    "<h4>Ilosc dzialek po podziale oraz ich powierzchnia</h4>"
   ]
  },
  {
   "cell_type": "code",
   "execution_count": 9,
   "metadata": {
    "collapsed": false
   },
   "outputs": [],
   "source": [
    "n_dzialek = 22\n",
    "n_dzialek_pow = [1000,1000,1000,1000,1000,1000,1000,1000,1000,1000,1000,1000,1000,1000,1000,900,900,900,900,900,900,900]"
   ]
  },
  {
   "cell_type": "markdown",
   "metadata": {},
   "source": [
    "<h4>Inwestycja</h4>"
   ]
  },
  {
   "cell_type": "code",
   "execution_count": 10,
   "metadata": {
    "collapsed": true
   },
   "outputs": [],
   "source": [
    "#koszty zalozenia i prowadzenia spolki\n",
    "podatek_od_kapitalu_wejsciowego = 0.05\n",
    "#jakies koszty poboczne uzbierane na przestrzeni calej inwestycji\n",
    "inne_koszty = 100000\n",
    "#stale koszty miesieczne\n",
    "koszty_miesieczne = 3000\n",
    "#na przestrzeni lat\n",
    "ilosc_lat = 8\n",
    "#inwestycja w budowe, jednorazowe koszty\n",
    "geodezja = 10000\n",
    "droga = 200000\n",
    "linia_energetyczna = 125000\n",
    "#cena budowy nieruchomosci (netto) - suwak\n",
    "nieruchomosc = (200000.0,600000.0,5000.0)\n",
    "#cena sprzedazy nieruchomosci (netto) - suwak\n",
    "sprzedaz_nieruchomosci = (400000.0,1000000.0,5000.0)\n",
    "#przypuszczalnie uda sie wybudowac kolejny dom troche taniej od poprzedniego \n",
    "#zakladamy ze zbijemy koszty budowy o\n",
    "spadek_kosztow = .08 #8 procent\n",
    "#i osiagniemy ten wlasnie spadek po wybudowaniu \n",
    "pelny_spadek_kosztow_po = 5 #domow\n",
    "#zabawa z optymalizacja podatku (suwak)\n",
    "#0.0 nie zbijemy w ogole podatku\n",
    "#1.0 zbijemy caly podatek\n",
    "optymalizacja_podatkowa = (0.0, 1.0, 0.01)"
   ]
  },
  {
   "cell_type": "code",
   "execution_count": 11,
   "metadata": {
    "collapsed": true
   },
   "outputs": [],
   "source": [
    "globs = Globs(VAT1, VAT2, DOCHODOWY, ADJ, POW,cena_bez_podzialu, cena_adjacencka_bez_podzialu, wzrost_wartosci, n_dzialek,\\\n",
    "              n_dzialek_pow)\n",
    "globs.init_inwestycje(podatek_od_kapitalu_wejsciowego, inne_koszty, ilosc_lat, koszty_miesieczne, geodezja,\\\n",
    "                      droga, linia_energetyczna, nieruchomosc, spadek_kosztow, pelny_spadek_kosztow_po,\\\n",
    "                      sprzedaz_nieruchomosci, optymalizacja_podatkowa)"
   ]
  },
  {
   "cell_type": "code",
   "execution_count": 12,
   "metadata": {
    "collapsed": false
   },
   "outputs": [
    {
     "data": {
      "image/png": "[encoded data removed]",
      "text/plain": [
       "<matplotlib.figure.Figure at 0x9c801d0>"
      ]
     },
     "metadata": {},
     "output_type": "display_data"
    },
    {
     "data": {
      "text/html": [
       "<h4>Zysk relatywny do maximum(sprzedaz dzialek lub calosci))</h4>"
      ],
      "text/plain": [
       "<IPython.core.display.HTML object>"
      ]
     },
     "metadata": {},
     "output_type": "display_data"
    },
    {
     "data": {
      "image/png": "[encoded data removed]",
      "text/plain": [
       "<matplotlib.figure.Figure at 0x7f816d8>"
      ]
     },
     "metadata": {},
     "output_type": "display_data"
    },
    {
     "name": "stdout",
     "output_type": "stream",
     "text": [
      "('oplata adjacencka', 186834.6)\n",
      "('powierzchnia dzialek podzielonych', 21300)\n",
      "('podatek dochodowy', 1346523.426)\n",
      "('nominalnie zysku', 5636644.9740000004)\n"
     ]
    }
   ],
   "source": [
    "globs.start()"
   ]
  }
 ],
 "metadata": {
  "kernelspec": {
   "display_name": "Python 2",
   "language": "python",
   "name": "python2"
  },
  "language_info": {
   "codemirror_mode": {
    "name": "ipython",
    "version": 2
   },
   "file_extension": ".py",
   "mimetype": "text/x-python",
   "name": "python",
   "nbconvert_exporter": "python",
   "pygments_lexer": "ipython2",
   "version": "2.7.13"
  },
  "widgets": {
   "state": {
    "03c0d5158b0c4b9a911e25e51940aaaa": {
     "views": [
      {
       "cell_index": 20
      }
     ]
    },
    "069f0127d866489a8ae60f20522aeff7": {
     "views": [
      {
       "cell_index": 20
      }
     ]
    },
    "0d784ab491814d8190419b3d4b65e16d": {
     "views": [
      {
       "cell_index": 20
      }
     ]
    },
    "209b6f376f97468fb568347ca34f004a": {
     "views": [
      {
       "cell_index": 20
      }
     ]
    },
    "2215066743514259bb67ace72d1ca16f": {
     "views": [
      {
       "cell_index": 20
      }
     ]
    },
    "284c863e4562491e9e913858eb52b206": {
     "views": [
      {
       "cell_index": 20
      }
     ]
    },
    "31c6e9d17bdd48079ec496e78c335668": {
     "views": [
      {
       "cell_index": 20
      }
     ]
    },
    "3337ca4f606645eaab8e6e3b492b9873": {
     "views": [
      {
       "cell_index": 20
      }
     ]
    },
    "3973800ffb4b43da9c0f874541036114": {
     "views": [
      {
       "cell_index": 20
      }
     ]
    },
    "41fcc38293874b70a6ac3b802e709a35": {
     "views": [
      {
       "cell_index": 20
      }
     ]
    },
    "4818090b90cb41b0aa05b00ec575cd45": {
     "views": [
      {
       "cell_index": 20
      }
     ]
    },
    "53e4bf33412b4b37b536474c4d6866b0": {
     "views": [
      {
       "cell_index": 20
      }
     ]
    },
    "815f556a9a3b428ea279029875c89acf": {
     "views": [
      {
       "cell_index": 20
      }
     ]
    },
    "948f8887e65e4b52ab20ed016888a42f": {
     "views": [
      {
       "cell_index": 20
      }
     ]
    },
    "96fe1f6749c64bbeb177c9fe58438613": {
     "views": [
      {
       "cell_index": 20
      }
     ]
    },
    "a4fd55299a2b4ead93c35beb16d5cc6e": {
     "views": [
      {
       "cell_index": 20
      }
     ]
    },
    "aea5fc8324c84abc9222aa1381995c81": {
     "views": [
      {
       "cell_index": 20
      }
     ]
    },
    "b2fa214ce96c47f7ab9dfe42db28cc5a": {
     "views": [
      {
       "cell_index": 20
      }
     ]
    },
    "c2c03e8079d94e7f8c6a162e7f96396d": {
     "views": [
      {
       "cell_index": 20
      }
     ]
    },
    "c2c723c2f3fe4c0fb7d2ecd3a6c38e64": {
     "views": [
      {
       "cell_index": 20
      }
     ]
    },
    "c306c0df3ce548a6920c1536af98eb42": {
     "views": [
      {
       "cell_index": 20
      }
     ]
    },
    "d8709e26448047138e1b7e1cdf5ec8c3": {
     "views": [
      {
       "cell_index": 20
      }
     ]
    },
    "d88d3e8bf8f34f58a4c4c9a2e34837cc": {
     "views": [
      {
       "cell_index": 20
      }
     ]
    },
    "d946cca699e04d459424957c1a1780ea": {
     "views": [
      {
       "cell_index": 20
      }
     ]
    },
    "dc1d3b764cbf460fbf6143a33f7c0112": {
     "views": [
      {
       "cell_index": 20
      }
     ]
    },
    "ece20b99249e43559338c27d0e33e765": {
     "views": [
      {
       "cell_index": 20
      }
     ]
    },
    "f5018d64d94f434cad886ba149d0eb1a": {
     "views": [
      {
       "cell_index": 20
      }
     ]
    },
    "fcb29c686f4c48f4935190bff5f96402": {
     "views": [
      {
       "cell_index": 20
      }
     ]
    }
   },
   "version": "1.2.0"
  }
 },
 "nbformat": 4,
 "nbformat_minor": 2
}
