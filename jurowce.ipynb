{
 "cells": [
  {
   "cell_type": "code",
   "execution_count": 1,
   "metadata": {
    "collapsed": false
   },
   "outputs": [],
   "source": [
    "%matplotlib inline\n",
    "import functions\n",
    "reload(functions)\n",
    "from functions import *"
   ]
  },
  {
   "cell_type": "markdown",
   "metadata": {},
   "source": [
    "<h4>Podatek VAT</h4>"
   ]
  },
  {
   "cell_type": "code",
   "execution_count": 2,
   "metadata": {
    "collapsed": true
   },
   "outputs": [],
   "source": [
    "VAT = .23"
   ]
  },
  {
   "cell_type": "markdown",
   "metadata": {},
   "source": [
    "<h4>Podatek dochodowy</h4>"
   ]
  },
  {
   "cell_type": "code",
   "execution_count": 3,
   "metadata": {
    "collapsed": true
   },
   "outputs": [],
   "source": [
    "DOCHODOWY = .19"
   ]
  },
  {
   "cell_type": "markdown",
   "metadata": {},
   "source": [
    "<h4>Oplata adjacencka</h4>"
   ]
  },
  {
   "cell_type": "code",
   "execution_count": 4,
   "metadata": {
    "collapsed": true
   },
   "outputs": [],
   "source": [
    "ADJ = .3"
   ]
  },
  {
   "cell_type": "markdown",
   "metadata": {},
   "source": [
    "<h4>Calkowita powierzchnia dzialki</h4>"
   ]
  },
  {
   "cell_type": "code",
   "execution_count": 5,
   "metadata": {
    "collapsed": true
   },
   "outputs": [],
   "source": [
    "POW = 23066"
   ]
  },
  {
   "cell_type": "markdown",
   "metadata": {},
   "source": [
    "<h4>Cena za metr bez podzialu</h4>cena ktora chcielibysmy osiagnac przy sprzedazy calej dzialki bez podzialu"
   ]
  },
  {
   "cell_type": "code",
   "execution_count": 6,
   "metadata": {
    "collapsed": true
   },
   "outputs": [],
   "source": [
    "#suwak od 80 do 130 przestawianie o 1\n",
    "cena_bez_podzialu = (80,130,1.0)"
   ]
  },
  {
   "cell_type": "markdown",
   "metadata": {},
   "source": [
    "<h4>Cena za metr bez podzialu (rzeczoznawca)</h4>Cena, ktora zostanie uwzgledniona przy wyliczaniu wzrostu wartosci przez rzeczoznawce "
   ]
  },
  {
   "cell_type": "code",
   "execution_count": 7,
   "metadata": {
    "collapsed": true
   },
   "outputs": [],
   "source": [
    "#suwak\n",
    "cena_adjacencka_bez_podzialu = (80,130,1.0)"
   ]
  },
  {
   "cell_type": "markdown",
   "metadata": {},
   "source": [
    "<h4>wzrost wartosci</h4> wzrost wartosci okreslony przez rzeczoznawce (relatywny)"
   ]
  },
  {
   "cell_type": "code",
   "execution_count": 8,
   "metadata": {
    "collapsed": true
   },
   "outputs": [],
   "source": [
    "#suwak, wzrost wartosci o 10 procent do 100 procent (2 razy), przestawianie o 5 procent\n",
    "wzrost_wartosci = (0.1,1.0,0.05)"
   ]
  },
  {
   "cell_type": "markdown",
   "metadata": {},
   "source": [
    "<h4>Ilosc dzialek po podziale oraz ich powierzchnia</h4>"
   ]
  },
  {
   "cell_type": "code",
   "execution_count": 9,
   "metadata": {
    "collapsed": false
   },
   "outputs": [],
   "source": [
    "n_dzialek = 22\n",
    "n_dzialek_pow = [1000,1000,1000,1000,1000,1000,1000,1000,1000,1000,1000,1000,1000,1000,1000,900,900,900,900,900,900,900]"
   ]
  },
  {
   "cell_type": "markdown",
   "metadata": {},
   "source": [
    "<h4>Inwestycja</h4>"
   ]
  },
  {
   "cell_type": "code",
   "execution_count": 10,
   "metadata": {
    "collapsed": true
   },
   "outputs": [],
   "source": [
    "#koszty zalozenia i prowadzenia spolki\n",
    "podatek_od_kapitalu_wejsciowego = 0.05\n",
    "#jakies koszty poboczne uzbierane na przestrzeni calej inwestycji\n",
    "inne_koszty = 50000\n",
    "#stale koszty miesieczne\n",
    "koszty_miesieczne = 2500\n",
    "#na przestrzeni lat\n",
    "ilosc_lat = 5\n",
    "#inwestycja w budowe, jednorazowe koszty\n",
    "geodezja = 5000\n",
    "droga = 200000\n",
    "linia_energetyczna = 100000\n",
    "#cena budowy nieruchomosci (brutto) - suwak\n",
    "nieruchomosc = (300000.0,700000.0,5000.0)\n",
    "#cena sprzedazy nieruchomosci (brutto) - suwak\n",
    "sprzedaz_nieruchomosci = (700000.0,1000000.0,5000.0)\n",
    "#przypuszczalnie uda sie wybudowac kolejny dom troche taniej od poprzedniego \n",
    "#zakladamy ze zbijemy koszty budowy o\n",
    "spadek_kosztow = .10 #10 procent\n",
    "#i osiagniemy ten wlasnie spadek po wybudowaniu \n",
    "pelny_spadek_kosztow_po = 5 #domow\n",
    "#zabawa z optymalizacja podatku (suwak)\n",
    "#0.0 nie zbijemy w ogole podatku\n",
    "#1.0 zbijemy caly podatek\n",
    "optymalizacja_podatkowa = (0.0, 1.0, 0.01)"
   ]
  },
  {
   "cell_type": "code",
   "execution_count": 11,
   "metadata": {
    "collapsed": false
   },
   "outputs": [],
   "source": [
    "globs = Globs(VAT, DOCHODOWY, ADJ, POW,cena_bez_podzialu, cena_adjacencka_bez_podzialu, wzrost_wartosci, n_dzialek,\\\n",
    "              n_dzialek_pow)\n",
    "globs.init_inwestycje(podatek_od_kapitalu_wejsciowego, inne_koszty, ilosc_lat, koszty_miesieczne, geodezja, droga, linia_energetyczna, nieruchomosc, spadek_kosztow, pelny_spadek_kosztow_po,\\\n",
    "                      sprzedaz_nieruchomosci, optymalizacja_podatkowa)\n",
    "globs.start()"
   ]
  },
  {
   "cell_type": "code",
   "execution_count": null,
   "metadata": {
    "collapsed": true
   },
   "outputs": [],
   "source": []
  }
 ],
 "metadata": {
  "kernelspec": {
   "display_name": "Python 2",
   "language": "python",
   "name": "python2"
  },
  "language_info": {
   "codemirror_mode": {
    "name": "ipython",
    "version": 2
   },
   "file_extension": ".py",
   "mimetype": "text/x-python",
   "name": "python",
   "nbconvert_exporter": "python",
   "pygments_lexer": "ipython2",
   "version": "2.7.13"
  },
  "widgets": {
   "state": {
    "06c78b5a711f444398b701551088477b": {
     "views": [
      {
       "cell_index": 19
      }
     ]
    },
    "0933e6f7cd9440ff88b0f4e9bc3417a8": {
     "views": [
      {
       "cell_index": 19
      }
     ]
    },
    "30b205d687dc4c06848fd2f92aea2a23": {
     "views": [
      {
       "cell_index": 19
      }
     ]
    },
    "5e7924ccae11466ba8bf33084e0d23d2": {
     "views": [
      {
       "cell_index": 19
      }
     ]
    },
    "79208a59619c423da3f8aa3584aa12b8": {
     "views": [
      {
       "cell_index": 19
      }
     ]
    },
    "7c1a337aa8804e408099c5d8062357de": {
     "views": [
      {
       "cell_index": 19
      }
     ]
    },
    "7c44b8a2c0114926b80e2693ce60825b": {
     "views": [
      {
       "cell_index": 19
      }
     ]
    },
    "8e5024a22023422594da11dfa63ec439": {
     "views": [
      {
       "cell_index": 19
      }
     ]
    },
    "abd7f541f188494ab6e71bcef2df92c0": {
     "views": [
      {
       "cell_index": 19
      }
     ]
    },
    "c985ca41f56c49ad8ac6f639aed2ac97": {
     "views": [
      {
       "cell_index": 19
      }
     ]
    },
    "e6b6539b72174ddca20e2eb4bfe26a3e": {
     "views": [
      {
       "cell_index": 19
      }
     ]
    },
    "f036fe513bb945718e85c5532954bcb5": {
     "views": [
      {
       "cell_index": 19
      }
     ]
    },
    "f0acfda75f3a468db65f2cc34217d30a": {
     "views": [
      {
       "cell_index": 19
      }
     ]
    }
   },
   "version": "1.2.0"
  }
 },
 "nbformat": 4,
 "nbformat_minor": 2
}
