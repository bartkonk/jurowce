{
 "cells": [
  {
   "cell_type": "code",
   "execution_count": 1,
   "metadata": {
    "collapsed": false
   },
   "outputs": [],
   "source": [
    "%matplotlib inline\n",
    "import functions\n",
    "reload(functions)\n",
    "from functions import *"
   ]
  },
  {
   "cell_type": "markdown",
   "metadata": {},
   "source": [
    "<h4>Podatek VAT</h4>"
   ]
  },
  {
   "cell_type": "code",
   "execution_count": 2,
   "metadata": {
    "collapsed": true
   },
   "outputs": [],
   "source": [
    "VAT1 = .08\n",
    "VAT2 = .08"
   ]
  },
  {
   "cell_type": "markdown",
   "metadata": {},
   "source": [
    "<h4>Podatek dochodowy</h4>"
   ]
  },
  {
   "cell_type": "code",
   "execution_count": 3,
   "metadata": {
    "collapsed": false,
    "scrolled": false
   },
   "outputs": [],
   "source": [
    "DOCHODOWY = .19"
   ]
  },
  {
   "cell_type": "markdown",
   "metadata": {},
   "source": [
    "<h4>Oplata adjacencka</h4>"
   ]
  },
  {
   "cell_type": "code",
   "execution_count": 4,
   "metadata": {
    "collapsed": true
   },
   "outputs": [],
   "source": [
    "ADJ = .2"
   ]
  },
  {
   "cell_type": "markdown",
   "metadata": {},
   "source": [
    "<h4>Calkowita powierzchnia dzialki</h4>"
   ]
  },
  {
   "cell_type": "code",
   "execution_count": 5,
   "metadata": {
    "collapsed": true
   },
   "outputs": [],
   "source": [
    "POW = 23066"
   ]
  },
  {
   "cell_type": "markdown",
   "metadata": {},
   "source": [
    "<h4>Cena za metr bez podzialu</h4>cena ktora chcielibysmy osiagnac przy sprzedazy calej dzialki bez podzialu"
   ]
  },
  {
   "cell_type": "code",
   "execution_count": 6,
   "metadata": {
    "collapsed": true
   },
   "outputs": [],
   "source": [
    "#suwak od 80 do 130 przestawianie o 1\n",
    "cena_bez_podzialu = (80,130,1.0)"
   ]
  },
  {
   "cell_type": "markdown",
   "metadata": {},
   "source": [
    "<h4>Cena za metr bez podzialu (rzeczoznawca)</h4>Cena, ktora zostanie uwzgledniona przy wyliczaniu wzrostu wartosci przez rzeczoznawce "
   ]
  },
  {
   "cell_type": "code",
   "execution_count": 7,
   "metadata": {
    "collapsed": true
   },
   "outputs": [],
   "source": [
    "#suwak\n",
    "cena_adjacencka_bez_podzialu = (80,130,1.0)"
   ]
  },
  {
   "cell_type": "markdown",
   "metadata": {},
   "source": [
    "<h4>wzrost wartosci</h4> wzrost wartosci okreslony przez rzeczoznawce (relatywny)"
   ]
  },
  {
   "cell_type": "code",
   "execution_count": 8,
   "metadata": {
    "collapsed": true
   },
   "outputs": [],
   "source": [
    "#suwak, wzrost wartosci o 10 procent do 100 procent (2 razy), przestawianie o 5 procent\n",
    "wzrost_wartosci = (0.1,1.0,0.01)"
   ]
  },
  {
   "cell_type": "markdown",
   "metadata": {},
   "source": [
    "<h4>Ilosc dzialek po podziale oraz ich powierzchnia</h4>"
   ]
  },
  {
   "cell_type": "code",
   "execution_count": 9,
   "metadata": {
    "collapsed": false
   },
   "outputs": [],
   "source": [
    "n_dzialek = 22\n",
    "n_dzialek_pow = [1000,1000,1000,1000,1000,1000,1000,1000,1000,1000,1000,1000,1000,1000,1000,900,900,900,900,900,900,900]"
   ]
  },
  {
   "cell_type": "markdown",
   "metadata": {},
   "source": [
    "<h4>Inwestycja</h4>"
   ]
  },
  {
   "cell_type": "code",
   "execution_count": 10,
   "metadata": {
    "collapsed": true
   },
   "outputs": [],
   "source": [
    "#koszty zalozenia i prowadzenia spolki\n",
    "podatek_od_kapitalu_wejsciowego = 0.005\n",
    "#jakies koszty poboczne uzbierane na przestrzeni calej inwestycji\n",
    "inne_koszty = 100000\n",
    "#stale koszty miesieczne\n",
    "koszty_miesieczne = 3000\n",
    "#na przestrzeni lat\n",
    "ilosc_lat = 8\n",
    "#inwestycja w budowe, jednorazowe koszty\n",
    "geodezja = 10000\n",
    "droga = 200000\n",
    "linia_energetyczna = 125000\n",
    "#cena budowy nieruchomosci (netto) - suwak\n",
    "nieruchomosc = (200000.0,600000.0,5000.0)\n",
    "#cena sprzedazy nieruchomosci (netto) - suwak\n",
    "sprzedaz_nieruchomosci = (400000.0,1000000.0,5000.0)\n",
    "#przypuszczalnie uda sie wybudowac kolejny dom troche taniej od poprzedniego \n",
    "#zakladamy ze zbijemy koszty budowy o\n",
    "spadek_kosztow = .08 #8 procent\n",
    "#i osiagniemy ten wlasnie spadek po wybudowaniu \n",
    "pelny_spadek_kosztow_po = 5 #domow\n",
    "#zabawa z optymalizacja podatku (suwak)\n",
    "#0.0 nie zbijemy w ogole podatku\n",
    "#1.0 zbijemy caly podatek\n",
    "optymalizacja_podatkowa = (0.0, 1.0, 0.01)"
   ]
  },
  {
   "cell_type": "code",
   "execution_count": 11,
   "metadata": {
    "collapsed": false
   },
   "outputs": [],
   "source": [
    "globs = Globs(VAT1, VAT2, DOCHODOWY, ADJ, POW,cena_bez_podzialu, cena_adjacencka_bez_podzialu, wzrost_wartosci, n_dzialek,\\\n",
    "              n_dzialek_pow)\n",
    "globs.init_inwestycje(podatek_od_kapitalu_wejsciowego, inne_koszty, ilosc_lat, koszty_miesieczne, geodezja,\\\n",
    "                      droga, linia_energetyczna, nieruchomosc, spadek_kosztow, pelny_spadek_kosztow_po,\\\n",
    "                      sprzedaz_nieruchomosci, optymalizacja_podatkowa)"
   ]
  },
  {
   "cell_type": "code",
   "execution_count": 12,
   "metadata": {
    "collapsed": false
   },
   "outputs": [
    {
     "data": {
      "image/png": "[encoded data removed]",
      "text/plain": [
       "<matplotlib.figure.Figure at 0xaa89f60>"
      ]
     },
     "metadata": {},
     "output_type": "display_data"
    },
    {
     "data": {
      "text/html": [
       "<h4>Zysk relatywny do maximum(sprzedaz dzialek lub calosci))</h4>"
      ],
      "text/plain": [
       "<IPython.core.display.HTML object>"
      ]
     },
     "metadata": {},
     "output_type": "display_data"
    },
    {
     "data": {
      "image/png": "[encoded data removed]",
      "text/plain": [
       "<matplotlib.figure.Figure at 0xa967c50>"
      ]
     },
     "metadata": {},
     "output_type": "display_data"
    },
    {
     "name": "stdout",
     "output_type": "stream",
     "text": [
      "('oplata adjacencka', 186834.6)\n",
      "('powierzchnia dzialek podzielonych', 21300)\n",
      "('podatek dochodowy', 798107.42600000009)\n",
      "('nominalnie zysku', 3487851.16512)\n"
     ]
    }
   ],
   "source": [
    "globs.start()"
   ]
  },
  {
   "cell_type": "code",
   "execution_count": null,
   "metadata": {
    "collapsed": true
   },
   "outputs": [],
   "source": []
  }
 ],
 "metadata": {
  "kernelspec": {
   "display_name": "Python 2",
   "language": "python",
   "name": "python2"
  },
  "language_info": {
   "codemirror_mode": {
    "name": "ipython",
    "version": 2
   },
   "file_extension": ".py",
   "mimetype": "text/x-python",
   "name": "python",
   "nbconvert_exporter": "python",
   "pygments_lexer": "ipython2",
   "version": "2.7.13"
  },
  "widgets": {
   "state": {
    "04e38665dc0746deb2432314e76c2642": {
     "views": [
      {
       "cell_index": 20
      }
     ]
    },
    "0b011a6fcaf04a8e9d2f793191bd162f": {
     "views": [
      {
       "cell_index": 20
      }
     ]
    },
    "1f62a537f12a4c9593755843cb147e9c": {
     "views": [
      {
       "cell_index": 20
      }
     ]
    },
    "28f757b1b7b04707a1708cc5c585a7ca": {
     "views": [
      {
       "cell_index": 20
      }
     ]
    },
    "4591e8ed1a134453b2810b7e8dabbefd": {
     "views": [
      {
       "cell_index": 20
      }
     ]
    },
    "4b620a6d33094cd1aacf65865772bb21": {
     "views": [
      {
       "cell_index": 20
      }
     ]
    },
    "4b91ae798bbf4a0a8ef28a539d418c54": {
     "views": [
      {
       "cell_index": 20
      }
     ]
    },
    "4d181b55003443fd8273df7759d35668": {
     "views": [
      {
       "cell_index": 20
      }
     ]
    },
    "5c28f628a32e48839c226d23645c8cf8": {
     "views": [
      {
       "cell_index": 20
      }
     ]
    },
    "67496da7255948009549a1ae9cb8f0d5": {
     "views": [
      {
       "cell_index": 20
      }
     ]
    },
    "69b906f96d6b47bd8a28dfeaa52573c5": {
     "views": [
      {
       "cell_index": 20
      }
     ]
    },
    "733a5daf4ee34d2d9bf7cb6c57969e70": {
     "views": [
      {
       "cell_index": 20
      }
     ]
    },
    "777e3c18af574641b2935d2ab4e4402e": {
     "views": [
      {
       "cell_index": 20
      }
     ]
    },
    "7adf910581a349739a76df7ce6c17ccb": {
     "views": [
      {
       "cell_index": 20
      }
     ]
    },
    "7e9193736afb4aa392b2b726af412c56": {
     "views": [
      {
       "cell_index": 20
      }
     ]
    },
    "88f505c6e6234ce2a190d85b29da90a2": {
     "views": [
      {
       "cell_index": 20
      }
     ]
    },
    "8b0dda38600f48e995adc82cd6f51b9e": {
     "views": [
      {
       "cell_index": 20
      }
     ]
    },
    "8f8f6ca716ce42c6b3cc470ac63b299c": {
     "views": [
      {
       "cell_index": 20
      }
     ]
    },
    "9aad6808f96a47019bdd0cbf121111a3": {
     "views": [
      {
       "cell_index": 20
      }
     ]
    },
    "9bac6c8cac894de6b0587189f56ff8f7": {
     "views": [
      {
       "cell_index": 20
      }
     ]
    },
    "9d55e409e69944d2b5aab0562d2d5a96": {
     "views": [
      {
       "cell_index": 20
      }
     ]
    },
    "a65d163350d44a86b18dd86e0c4c1c1f": {
     "views": [
      {
       "cell_index": 20
      }
     ]
    },
    "ac20e6a84a18441f833d06e437386597": {
     "views": [
      {
       "cell_index": 20
      }
     ]
    },
    "b069df9b1c3740fbac7e874c2f266da8": {
     "views": [
      {
       "cell_index": 20
      }
     ]
    },
    "b222760d2899402da5ae84d6c62126bd": {
     "views": [
      {
       "cell_index": 20
      }
     ]
    },
    "bbd1904e78f64c41b06537e583bd521c": {
     "views": [
      {
       "cell_index": 20
      }
     ]
    },
    "bd0eb49521084feaad56928c0bebf6d4": {
     "views": [
      {
       "cell_index": 20
      }
     ]
    },
    "bd26b741934e4daf8d3c6413d3744d49": {
     "views": [
      {
       "cell_index": 20
      }
     ]
    },
    "c29f9eeaa5df4bb083d8f9198ef6271a": {
     "views": [
      {
       "cell_index": 20
      }
     ]
    },
    "c2d1f2b833184aa4ae3366c1857a3a50": {
     "views": [
      {
       "cell_index": 20
      }
     ]
    },
    "c42380b8d28c4ce6a76c633b008a2f00": {
     "views": [
      {
       "cell_index": 20
      }
     ]
    },
    "c4a800ffdc7c49b9b603d33965136f7f": {
     "views": [
      {
       "cell_index": 20
      }
     ]
    },
    "c60df2c9e9f542eb8379a42bf1668826": {
     "views": [
      {
       "cell_index": 20
      }
     ]
    },
    "c95152333f8a4709a5086092ff63fe92": {
     "views": [
      {
       "cell_index": 20
      }
     ]
    },
    "d6df3b924dea49a0aba6ceba44506553": {
     "views": [
      {
       "cell_index": 20
      }
     ]
    },
    "ea5069967c7e48e6ac4ec910568ba1bf": {
     "views": [
      {
       "cell_index": 20
      }
     ]
    },
    "f2d5ab0977064b9ea3577469b55469da": {
     "views": [
      {
       "cell_index": 20
      }
     ]
    },
    "f4c84aba681342d0b2e325c26ea8215a": {
     "views": [
      {
       "cell_index": 20
      }
     ]
    },
    "f73e675f6ae347f2aa3146cba0cb21c5": {
     "views": [
      {
       "cell_index": 20
      }
     ]
    }
   },
   "version": "1.2.0"
  }
 },
 "nbformat": 4,
 "nbformat_minor": 2
}
